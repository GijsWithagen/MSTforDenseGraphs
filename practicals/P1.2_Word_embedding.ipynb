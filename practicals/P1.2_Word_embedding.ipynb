{
  "cells": [
    {
      "cell_type": "markdown",
      "metadata": {
        "id": "view-in-github",
        "colab_type": "text"
      },
      "source": [
        "<a href=\"https://colab.research.google.com/github/GijsWithagen/MSTforDenseGraphs/blob/main/practicals/P1.2_Word_embedding.ipynb\" target=\"_parent\"><img src=\"https://colab.research.google.com/assets/colab-badge.svg\" alt=\"Open In Colab\"/></a>"
      ]
    },
    {
      "cell_type": "code",
      "execution_count": 1,
      "metadata": {
        "id": "KZr0TuQASzOy"
      },
      "outputs": [],
      "source": [
        "%matplotlib inline"
      ]
    },
    {
      "cell_type": "markdown",
      "metadata": {
        "id": "_MVtIN44SzOz"
      },
      "source": [
        "# Practical Overview\n",
        "\n",
        " In this Practical you will learn :\n",
        "- Basic concepts of word embeddings.\n",
        "- How to extract word embeddings by N-Gram in a toy example.\n",
        "- How to extract word embeddings by CBoW in a toy example.\n",
        "- How to extract word embeddings by CBoW in `Alice in Wonderland`.\n",
        "- How to perform the analogy task.\n",
        "- Reflecting on the conceptual differences between the CBoW and N-Gram model.\n",
        "\n",
        "We recommend running the practicals of this course in Google Colab. Make sure to go to additional connection options (the small arrow at the top right) -> change runtime type -> a GPU runtime to make use of GPU acceleration."
      ]
    },
    {
      "cell_type": "markdown",
      "metadata": {
        "id": "xJ4nnAY4jR4R"
      },
      "source": [
        "\n",
        "# Word Embeddings: Encoding Lexical Semantics\n",
        "\n",
        "\n",
        "Word embeddings are dense vectors of real numbers, one per word in your\n",
        "vocabulary. In NLP, it is almost always the case that your features are\n",
        "words! But how should you represent a word in a computer? You could\n",
        "store its ascii character representation, but that only tells you what\n",
        "the word *is*, it doesn't say much about what it *means* (you might be\n",
        "able to derive its part of speech from its affixes, or properties from\n",
        "its capitalization, but not much). Even more, in what sense could you\n",
        "combine these representations? We often want dense outputs from our\n",
        "neural networks, where the inputs are $|V|$ dimensional, where\n",
        "$V$ is our vocabulary, but often the outputs are only a few\n",
        "dimensional (if we are only predicting a handful of labels, for\n",
        "instance). How do we get from a massive dimensional space to a smaller\n",
        "dimensional space?\n",
        "\n",
        "How about instead of ascii representations, we use a one-hot encoding?\n",
        "That is, we represent the word $w$ by\n",
        "$$\n",
        "\\begin{align}\n",
        "\\overbrace{\\left[ 0, 0, \\dots, 1, \\dots, 0, 0 \\right]}^\\text{|V| elements}\n",
        "\\end{align}\n",
        "$$\n",
        "\n",
        "where the 1 is in a location unique to $w$. Any other word will\n",
        "have a 1 in some other location, and a 0 everywhere else.\n",
        "\n",
        "There is an enormous drawback to this representation, besides just how\n",
        "huge it is. It basically treats all words as independent entities with\n",
        "no relation to each other. What we really want is some notion of\n",
        "*similarity* between words. Why? Let's see an example.\n",
        "\n",
        "Suppose we are building a language model. Suppose we have seen the\n",
        "sentences\n",
        "\n",
        "* The mathematician ran to the store.\n",
        "* The physicist ran to the store.\n",
        "* The mathematician solved the open problem.\n",
        "\n",
        "in our training data. Now suppose we get a new sentence never before\n",
        "seen in our training data:\n",
        "\n",
        "* The physicist solved the open problem.\n",
        "\n",
        "Our language model might do OK on this sentence, but wouldn't it be much\n",
        "better if we could use the following two facts:\n",
        "\n",
        "- We have seen  mathematician and physicist in the same role in a sentence. Somehow they\n",
        "  have a semantic relation.\n",
        "* We have seen mathematician in the same role  in this new unseen sentence\n",
        "  as we are now seeing physicist.\n",
        "\n",
        "and then infer that physicist is actually a good fit in the new unseen\n",
        "sentence? This is what we mean by a notion of similarity: we mean\n",
        "*semantic similarity*, not simply having similar orthographic\n",
        "representations. It is a technique to combat the sparsity of linguistic\n",
        "data, by connecting the dots between what we have seen and what we\n",
        "haven't. This example of course relies on a fundamental linguistic\n",
        "assumption: that words appearing in similar contexts are related to each\n",
        "other semantically. This is called the [distributional\n",
        "hypothesis](https://en.wikipedia.org/wiki/Distributional_semantics).\n"
      ]
    },
    {
      "cell_type": "markdown",
      "metadata": {
        "id": "ws-UlHLXSzO0"
      },
      "source": [
        "# Getting Dense Word Embeddings\n",
        "\n",
        "\n",
        "How can we solve this problem? That is, how could we actually encode\n",
        "semantic similarity in words? Maybe we think up some semantic\n",
        "attributes. For example, we see that both mathematicians and physicists\n",
        "can run, so maybe we give these words a high score for the \"is able to\n",
        "run\" semantic attribute. Think of some other attributes, and imagine\n",
        "what you might score some common words on those attributes.\n",
        "\n",
        "If each attribute is a dimension, then we might give each word a vector,\n",
        "like this:\n",
        "\n",
        "$$\n",
        "\\begin{align}\n",
        "q_\\text{mathematician} = \\left[ \\overbrace{2.3}^\\text{can run},\n",
        "   \\overbrace{9.4}^\\text{likes coffee}, \\overbrace{-5.5}^\\text{majored in Physics}, \\dots \\right]\n",
        " \\end{align}\n",
        "$$\n",
        "\n",
        "$$\n",
        "\\begin{align}\n",
        "q_\\text{physicist} = \\left[ \\overbrace{2.5}^\\text{can run},\n",
        "   \\overbrace{9.1}^\\text{likes coffee}, \\overbrace{6.4}^\\text{majored in Physics}, \\dots \\right]\n",
        "\\end{align}\n",
        "$$\n",
        "\n",
        "Then we can get a measure of similarity between these words by doing:\n",
        "\n",
        "$$\n",
        "\\begin{align}\n",
        "\\text{Similarity}(\\text{physicist}, \\text{mathematician}) = q_\\text{physicist} \\cdot q_\\text{mathematician}\n",
        "\\end{align}\n",
        "$$\n",
        "\n",
        "\n",
        "Although it is more common to normalize by the lengths:\n",
        "\n",
        "\\begin{align}\\text{Similarity}(\\text{physicist}, \\text{mathematician}) = \\frac{q_\\text{physicist} \\cdot q_\\text{mathematician}}\n",
        "   {\\| q_\\text{physicist} \\| \\| q_\\text{mathematician} \\|} = \\cos (\\phi)\\end{align}\n",
        "\n",
        "Where $\\phi$ is the angle between the two vectors. That way,\n",
        "extremely similar words (words whose embeddings point in the same\n",
        "direction) will have similarity 1. Extremely dissimilar words should\n",
        "have similarity -1.\n",
        "\n",
        "\n",
        "\n",
        "You can think of the sparse one-hot vectors from the beginning of this\n",
        "section as a special case of these new vectors we have defined, where\n",
        "each word basically has similarity 0, and we gave each word some unique\n",
        "semantic attribute. These new vectors are *dense*, which is to say their\n",
        "entries are (typically) non-zero.\n",
        "\n",
        "But these new vectors are a big pain: you could think of thousands of\n",
        "different semantic attributes that might be relevant to determining\n",
        "similarity, and how on earth would you set the values of the different\n",
        "attributes? Central to the idea of deep learning is that the neural\n",
        "network learns representations of the features, rather than requiring\n",
        "the programmer to design them herself. So why not just let the word\n",
        "embeddings be parameters in our model, and then be updated during\n",
        "training? This is exactly what we will do. We will have some *latent\n",
        "semantic attributes* that the network can, in principle, learn. Note\n",
        "that the word embeddings will probably not be interpretable. That is,\n",
        "although with our hand-crafted vectors above we can see that\n",
        "mathematicians and physicists are similar in that they both like coffee,\n",
        "if we allow a neural network to learn the embeddings and see that both\n",
        "mathematicians and physicists have a large value in the second\n",
        "dimension, it is not clear what that means. They are similar in some\n",
        "latent semantic dimension, but this probably has no interpretation to\n",
        "us.\n",
        "\n",
        "\n",
        "In summary, **word embeddings are a representation of the *semantics* of\n",
        "a word, efficiently encoding semantic information that might be relevant\n",
        "to the task at hand**. You can embed other things too: part of speech\n",
        "tags, parse trees, anything! The idea of feature embeddings is central\n",
        "to the field.\n"
      ]
    },
    {
      "cell_type": "markdown",
      "metadata": {
        "id": "kHuWRfaxSzO0"
      },
      "source": [
        "# Word Embeddings in Pytorch\n",
        "\n",
        "\n",
        "Before we get to a worked example and an exercise, a few quick notes\n",
        "about how to use embeddings in Pytorch and in deep learning programming\n",
        "in general. Similar to how we defined a unique index for each word when\n",
        "making one-hot vectors, we also need to define an index for each word\n",
        "when using embeddings. These will be keys into a lookup table. That is,\n",
        "embeddings are stored as a $|V| \\times D$ matrix, where $D$\n",
        "is the dimensionality of the embeddings, such that the word assigned\n",
        "index $i$ has its embedding stored in the $i$'th row of the\n",
        "matrix. In all of code, the mapping from words to indices is a\n",
        "dictionary named word\\_to\\_ix.\n",
        "\n",
        "The module that allows you to use embeddings is torch.nn.Embedding,\n",
        "which takes two arguments: the vocabulary size, and the dimensionality\n",
        "of the embeddings.\n",
        "\n",
        "To index into this table, you must use torch.LongTensor (since the\n",
        "indices are integers, not floats).\n",
        "\n"
      ]
    },
    {
      "cell_type": "code",
      "execution_count": 2,
      "metadata": {
        "id": "SN-aYyHOjR4S",
        "outputId": "05e1665b-aa2b-4830-fa8a-f3b52aa66049",
        "colab": {
          "base_uri": "https://localhost:8080/"
        }
      },
      "outputs": [
        {
          "output_type": "execute_result",
          "data": {
            "text/plain": [
              "<torch._C.Generator at 0x7fdbb02cb370>"
            ]
          },
          "metadata": {},
          "execution_count": 2
        }
      ],
      "source": [
        "# The first part of this practical is based on the tutorial by Robert Guthrie, which can be found here:\n",
        "# https://pytorch.org/tutorials/beginner/nlp/word_embeddings_tutorial.html\n",
        "\n",
        "import torch\n",
        "import torch.nn as nn\n",
        "import torch.nn.functional as F\n",
        "import torch.optim as optim\n",
        "import numpy as np\n",
        "torch.manual_seed(1)"
      ]
    },
    {
      "cell_type": "code",
      "execution_count": 4,
      "metadata": {
        "id": "Ki4s4m9IjR4T",
        "outputId": "4d01d0ca-d652-4cf6-9065-1495d911524e",
        "colab": {
          "base_uri": "https://localhost:8080/"
        }
      },
      "outputs": [
        {
          "output_type": "stream",
          "name": "stdout",
          "text": [
            "tensor([[ 0.6614,  0.2669,  0.0617,  0.6213, -0.4519]],\n",
            "       grad_fn=<EmbeddingBackward0>)\n"
          ]
        }
      ],
      "source": [
        "word_to_ix = {\"hello\": 0, \"world\": 1}\n",
        "embeds = nn.Embedding(2, 5)  # 2 words in vocab, 5 dimensional embeddings\n",
        "lookup_tensor = torch.tensor([word_to_ix[\"hello\"]], dtype=torch.long)\n",
        "hello_embed = embeds(lookup_tensor)\n",
        "print(hello_embed)"
      ]
    },
    {
      "cell_type": "markdown",
      "metadata": {
        "id": "uzIyUMPKjR4U"
      },
      "source": [
        "# Getting started:  N-Gram Language Modeling in a Toy example\n",
        "\n",
        "\n",
        "Recall that in an n-gram language model, given a sequence of words\n",
        "$w$, we want to compute\n",
        "\n",
        "\\begin{align}P(w_i | w_{i-1}, w_{i-2}, \\dots, w_{i-n+1} )\\end{align}\n",
        "\n",
        "Where $w_i$ is the ith word of the sequence.\n",
        "\n",
        "In this example, we will compute the loss function on some training\n",
        "examples and update the parameters with backpropagation.\n",
        "\n",
        "\n"
      ]
    },
    {
      "cell_type": "markdown",
      "metadata": {
        "id": "J4WwUJLHSzO1"
      },
      "source": [
        "##  Data Preprocessing\n",
        "\n",
        "Before we can use the data in our model, we should build a list of tuples.  Each tuple is `([ word_i-2, word_i-1 ], target word)`, we also build dictionaries to map from words to indices, i.e. word_to_ix, and map from indices to words, i.e. ix_to_word,"
      ]
    },
    {
      "cell_type": "code",
      "execution_count": 29,
      "metadata": {
        "id": "MxnY34GSSzO1",
        "outputId": "4274c29b-7ba8-44b0-accf-1e20913b72e7",
        "colab": {
          "base_uri": "https://localhost:8080/"
        }
      },
      "outputs": [
        {
          "output_type": "stream",
          "name": "stdout",
          "text": [
            "[(['When', 'forty'], 'winters'), (['forty', 'winters'], 'shall'), (['winters', 'shall'], 'besiege')]\n"
          ]
        }
      ],
      "source": [
        "CONTEXT_SIZE = 2   # a 2-gram language model\n",
        "\n",
        "# We will use Shakespeare Sonnet 2\n",
        "test_sentence = \"\"\"When forty winters shall besiege thy brow,\n",
        "And dig deep trenches in thy beauty's field,\n",
        "Thy youth's proud livery so gazed on now,\n",
        "Will be a totter'd weed of small worth held:\n",
        "Then being asked, where all thy beauty lies,\n",
        "Where all the treasure of thy lusty days;\n",
        "To say, within thine own deep sunken eyes,\n",
        "Were an all-eating shame, and thriftless praise.\n",
        "How much more praise deserv'd thy beauty's use,\n",
        "If thou couldst answer 'This fair child of mine\n",
        "Shall sum my count, and make my old excuse,'\n",
        "Proving his beauty by succession thine!\n",
        "This were to be new made when thou art old,\n",
        "And see thy blood warm when thou feel'st it cold.\"\"\".split()\n",
        "# we should tokenize the input, but we will ignore that for now\n",
        "# build a list of tuples.  Each tuple is ([ word_i-2, word_i-1 ], target word)\n",
        "trigrams = [([test_sentence[i], test_sentence[i + 1]], test_sentence[i + 2])\n",
        "            for i in range(len(test_sentence) - 2)]\n",
        "# print the first 3, just so you can see what they look like\n",
        "print(trigrams[:3])\n",
        "\n",
        "\n",
        "vocab = set(test_sentence)\n",
        "word_to_ix = {word: i for i, word in enumerate(vocab)}\n",
        "ix_to_word = {ix:word for ix, word in enumerate(vocab)}\n"
      ]
    },
    {
      "cell_type": "markdown",
      "metadata": {
        "id": "3_z21MXwSzO1"
      },
      "source": [
        "## Create N-Gram model\n",
        "We create N-Gram language model, and set the word embedding size to be 100 (or other by your preference)"
      ]
    },
    {
      "cell_type": "code",
      "execution_count": 6,
      "metadata": {
        "id": "cAWWomBFjR4V",
        "scrolled": true,
        "outputId": "fc18e909-b649-4e49-b90b-8d8b4c42034b",
        "colab": {
          "base_uri": "https://localhost:8080/"
        }
      },
      "outputs": [
        {
          "output_type": "stream",
          "name": "stdout",
          "text": [
            "Epoch: 0 \tLoss: 4.615110186348974\n",
            "Epoch: 1 \tLoss: 4.565369770590183\n",
            "Epoch: 2 \tLoss: 4.516076746240127\n",
            "Epoch: 3 \tLoss: 4.46725626540395\n",
            "Epoch: 4 \tLoss: 4.418645409356176\n",
            "Epoch: 5 \tLoss: 4.370274016287475\n",
            "Epoch: 6 \tLoss: 4.3221243588270335\n",
            "Epoch: 7 \tLoss: 4.274239928321501\n",
            "Epoch: 8 \tLoss: 4.226554703923453\n",
            "Epoch: 9 \tLoss: 4.179198191229221\n",
            "Epoch: 10 \tLoss: 4.131954026433219\n",
            "Epoch: 11 \tLoss: 4.084722603316855\n",
            "Epoch: 12 \tLoss: 4.037403545548431\n",
            "Epoch: 13 \tLoss: 3.99002078149171\n",
            "Epoch: 14 \tLoss: 3.942539326912534\n",
            "Epoch: 15 \tLoss: 3.8948210403982517\n",
            "Epoch: 16 \tLoss: 3.8468514311630115\n",
            "Epoch: 17 \tLoss: 3.7986832825483474\n",
            "Epoch: 18 \tLoss: 3.75004494295711\n",
            "Epoch: 19 \tLoss: 3.701001076571709\n",
            "Epoch: 20 \tLoss: 3.6515740040129265\n",
            "Epoch: 21 \tLoss: 3.6015207366605777\n",
            "Epoch: 22 \tLoss: 3.5509805447232408\n",
            "Epoch: 23 \tLoss: 3.4998545456776577\n",
            "Epoch: 24 \tLoss: 3.4481787945316955\n",
            "Epoch: 25 \tLoss: 3.3960035712318084\n",
            "Epoch: 26 \tLoss: 3.343180730279568\n",
            "Epoch: 27 \tLoss: 3.2900393104131243\n",
            "Epoch: 28 \tLoss: 3.236342001805263\n",
            "Epoch: 29 \tLoss: 3.1822364351390737\n",
            "Epoch: 30 \tLoss: 3.1274970896476137\n",
            "Epoch: 31 \tLoss: 3.0722356707648895\n",
            "Epoch: 32 \tLoss: 3.016670515051985\n",
            "Epoch: 33 \tLoss: 2.9605790323915735\n",
            "Epoch: 34 \tLoss: 2.904138128314398\n",
            "Epoch: 35 \tLoss: 2.847507821247641\n",
            "Epoch: 36 \tLoss: 2.7904530431317016\n",
            "Epoch: 37 \tLoss: 2.733166710465355\n",
            "Epoch: 38 \tLoss: 2.675482433454125\n",
            "Epoch: 39 \tLoss: 2.617761623015446\n",
            "Epoch: 40 \tLoss: 2.559813831759765\n",
            "Epoch: 41 \tLoss: 2.501728474038892\n",
            "Epoch: 42 \tLoss: 2.4437099980042043\n",
            "Epoch: 43 \tLoss: 2.385491826892954\n",
            "Epoch: 44 \tLoss: 2.32739807968646\n",
            "Epoch: 45 \tLoss: 2.2693543592385486\n",
            "Epoch: 46 \tLoss: 2.2114811832398438\n",
            "Epoch: 47 \tLoss: 2.1534848698472553\n",
            "Epoch: 48 \tLoss: 2.09593523603625\n",
            "Epoch: 49 \tLoss: 2.03848716774873\n",
            "Epoch: 50 \tLoss: 1.9812340630894214\n",
            "Epoch: 51 \tLoss: 1.9244635271287598\n",
            "Epoch: 52 \tLoss: 1.8679288660003022\n",
            "Epoch: 53 \tLoss: 1.8118841083703843\n",
            "Epoch: 54 \tLoss: 1.7563637270864132\n",
            "Epoch: 55 \tLoss: 1.7013354525629398\n",
            "Epoch: 56 \tLoss: 1.6469859639100268\n",
            "Epoch: 57 \tLoss: 1.5933962401035613\n",
            "Epoch: 58 \tLoss: 1.5405447699327384\n",
            "Epoch: 59 \tLoss: 1.4886499743546004\n",
            "Epoch: 60 \tLoss: 1.4375353965875322\n",
            "Epoch: 61 \tLoss: 1.387449556747369\n",
            "Epoch: 62 \tLoss: 1.3384431414635836\n",
            "Epoch: 63 \tLoss: 1.2904432851128873\n",
            "Epoch: 64 \tLoss: 1.243654807848213\n",
            "Epoch: 65 \tLoss: 1.1979143002391917\n",
            "Epoch: 66 \tLoss: 1.1535285360517755\n",
            "Epoch: 67 \tLoss: 1.1103214062420668\n",
            "Epoch: 68 \tLoss: 1.0684248749661234\n",
            "Epoch: 69 \tLoss: 1.0277893358627253\n",
            "Epoch: 70 \tLoss: 0.9884404550611445\n",
            "Epoch: 71 \tLoss: 0.9504504844678187\n",
            "Epoch: 72 \tLoss: 0.9137194654451007\n",
            "Epoch: 73 \tLoss: 0.8783170378445524\n",
            "Epoch: 74 \tLoss: 0.844234941543731\n",
            "Epoch: 75 \tLoss: 0.811427808243089\n",
            "Epoch: 76 \tLoss: 0.7799222939441689\n",
            "Epoch: 77 \tLoss: 0.7496502913073101\n",
            "Epoch: 78 \tLoss: 0.720675682467697\n",
            "Epoch: 79 \tLoss: 0.6928664849395245\n",
            "Epoch: 80 \tLoss: 0.6662512401827668\n",
            "Epoch: 81 \tLoss: 0.6408399840635536\n",
            "Epoch: 82 \tLoss: 0.6165441473764656\n",
            "Epoch: 83 \tLoss: 0.5932612914954667\n",
            "Epoch: 84 \tLoss: 0.5710963149250081\n",
            "Epoch: 85 \tLoss: 0.5499517533235845\n",
            "Epoch: 86 \tLoss: 0.5297604066740095\n",
            "Epoch: 87 \tLoss: 0.5105353561518466\n",
            "Epoch: 88 \tLoss: 0.49215861034076824\n",
            "Epoch: 89 \tLoss: 0.474727451603497\n",
            "Epoch: 90 \tLoss: 0.4580472590385285\n",
            "Epoch: 91 \tLoss: 0.4422198697529008\n",
            "Epoch: 92 \tLoss: 0.42712389770071063\n",
            "Epoch: 93 \tLoss: 0.4127623400593226\n",
            "Epoch: 94 \tLoss: 0.39912002075430564\n",
            "Epoch: 95 \tLoss: 0.3860802708144209\n",
            "Epoch: 96 \tLoss: 0.3736980313814319\n",
            "Epoch: 97 \tLoss: 0.3619393580387124\n",
            "Epoch: 98 \tLoss: 0.35070650483918403\n",
            "Epoch: 99 \tLoss: 0.3400330079340302\n"
          ]
        }
      ],
      "source": [
        "EMBEDDING_DIM = 100\n",
        "\n",
        "class NGramLanguageModeler(nn.Module):\n",
        "\n",
        "    def __init__(self, vocab_size, embedding_dim, context_size):\n",
        "        super().__init__()\n",
        "        self.embeddings = nn.Embedding(vocab_size, embedding_dim)\n",
        "        self.linear1 = nn.Linear(context_size * embedding_dim, 128)\n",
        "        self.linear2 = nn.Linear(128, vocab_size)\n",
        "\n",
        "    def forward(self, inputs):\n",
        "        embeds = self.embeddings(inputs).view((1, -1))\n",
        "        out = F.relu(self.linear1(embeds))\n",
        "        out = self.linear2(out)\n",
        "        log_probs = F.log_softmax(out, dim=1)\n",
        "        return log_probs\n",
        "\n",
        "\n",
        "\n",
        "loss_function = nn.NLLLoss()\n",
        "model = NGramLanguageModeler(len(vocab), EMBEDDING_DIM, CONTEXT_SIZE)\n",
        "optimizer = optim.SGD(model.parameters(), lr=0.001)\n",
        "\n",
        "for epoch in range(100):\n",
        "    total_loss = 0\n",
        "    for context, target in trigrams:\n",
        "\n",
        "        # Step 1. Prepare the inputs to be passed to the model (i.e, turn the words\n",
        "        # into integer indices and wrap them in tensors)\n",
        "        context_idxs = torch.tensor([word_to_ix[w] for w in context], dtype=torch.long)\n",
        "\n",
        "        # Step 2. Recall that torch *accumulates* gradients. Before passing in a\n",
        "        # new instance, you need to zero out the gradients from the old\n",
        "        # instance\n",
        "        model.zero_grad()\n",
        "\n",
        "        # Step 3. Run the forward pass, getting log probabilities over next\n",
        "        # words\n",
        "        log_probs = model(context_idxs)\n",
        "\n",
        "        # Step 4. Compute your loss function. (Again, Torch wants the target\n",
        "        # word wrapped in a tensor)\n",
        "        loss = loss_function(log_probs, torch.tensor([word_to_ix[target]], dtype=torch.long))\n",
        "\n",
        "        # Step 5. Do the backward pass and update the gradient\n",
        "        loss.backward()\n",
        "        optimizer.step()\n",
        "\n",
        "        # Get the Python number from a 1-element Tensor by calling tensor.item()\n",
        "        total_loss += loss.item()\n",
        "    average_loss= total_loss/len(trigrams)\n",
        "    print('Epoch:', epoch, '\\tLoss:', average_loss)  # The loss decreased every iteration over the training data!"
      ]
    },
    {
      "cell_type": "markdown",
      "metadata": {
        "id": "CBF7Hj3jSzO2"
      },
      "source": [
        "##  Check the results"
      ]
    },
    {
      "cell_type": "markdown",
      "metadata": {
        "id": "oebTKxNjSzO2"
      },
      "source": [
        "We can inspect some of the word embedding values in a pandas DataFrame:"
      ]
    },
    {
      "cell_type": "code",
      "execution_count": 7,
      "metadata": {
        "scrolled": true,
        "id": "A9Qvnnh2SzO2",
        "outputId": "4a45695d-fc0a-46bb-c5e0-c0bc84a43db4",
        "colab": {
          "base_uri": "https://localhost:8080/",
          "height": 256
        }
      },
      "outputs": [
        {
          "output_type": "execute_result",
          "data": {
            "text/plain": [
              "             0         1         2         3         4         5         6   \\\n",
              "new    0.866102  0.244907 -0.663336  0.810447  0.440394  1.174125  1.771748   \n",
              "thine  0.154896  1.254078  1.333154 -0.492825 -1.983725  1.802391  0.103423   \n",
              "and    0.220916 -0.575242  1.464411  1.773669 -2.022766  0.425511  0.574297   \n",
              "own    0.144874  0.203878  1.058261  0.138666  1.407098  0.485518 -0.705790   \n",
              "forty -0.374341 -2.411887 -1.280126 -0.057324 -1.232111 -1.064202 -0.388767   \n",
              "\n",
              "             7         8         9   ...        90        91        92  \\\n",
              "new   -0.093708  0.060381 -0.616891  ... -1.481992 -1.139511 -0.098170   \n",
              "thine  0.341781 -0.647391 -0.286480  ... -1.105528 -0.695816  0.233570   \n",
              "and   -1.794665  1.247958  1.281478  ...  0.242655 -0.387181 -0.200793   \n",
              "own   -0.827902  0.100226  0.194035  ...  0.344442 -0.550232 -0.962102   \n",
              "forty  0.378081 -0.206106  0.695131  ...  0.294404 -0.561940  0.727061   \n",
              "\n",
              "             93        94        95        96        97        98        99  \n",
              "new    0.345173 -1.071015 -0.874161  0.202998  0.301950  0.536108 -0.432083  \n",
              "thine  1.917194  1.842435  1.329732 -0.073964  0.345879 -0.653131  1.561690  \n",
              "and   -0.840401 -1.560349 -0.063719  1.201484 -2.287588 -1.017878 -0.888394  \n",
              "own    0.275194 -0.680707 -0.544612  1.151372 -0.401992  0.977808  1.548079  \n",
              "forty -0.546487 -0.804575  0.016648 -0.149151  0.521895 -0.210892 -1.257620  \n",
              "\n",
              "[5 rows x 100 columns]"
            ],
            "text/html": [
              "\n",
              "  <div id=\"df-eeb6147d-bd0a-4214-b97c-40c61aeb3606\" class=\"colab-df-container\">\n",
              "    <div>\n",
              "<style scoped>\n",
              "    .dataframe tbody tr th:only-of-type {\n",
              "        vertical-align: middle;\n",
              "    }\n",
              "\n",
              "    .dataframe tbody tr th {\n",
              "        vertical-align: top;\n",
              "    }\n",
              "\n",
              "    .dataframe thead th {\n",
              "        text-align: right;\n",
              "    }\n",
              "</style>\n",
              "<table border=\"1\" class=\"dataframe\">\n",
              "  <thead>\n",
              "    <tr style=\"text-align: right;\">\n",
              "      <th></th>\n",
              "      <th>0</th>\n",
              "      <th>1</th>\n",
              "      <th>2</th>\n",
              "      <th>3</th>\n",
              "      <th>4</th>\n",
              "      <th>5</th>\n",
              "      <th>6</th>\n",
              "      <th>7</th>\n",
              "      <th>8</th>\n",
              "      <th>9</th>\n",
              "      <th>...</th>\n",
              "      <th>90</th>\n",
              "      <th>91</th>\n",
              "      <th>92</th>\n",
              "      <th>93</th>\n",
              "      <th>94</th>\n",
              "      <th>95</th>\n",
              "      <th>96</th>\n",
              "      <th>97</th>\n",
              "      <th>98</th>\n",
              "      <th>99</th>\n",
              "    </tr>\n",
              "  </thead>\n",
              "  <tbody>\n",
              "    <tr>\n",
              "      <th>new</th>\n",
              "      <td>0.866102</td>\n",
              "      <td>0.244907</td>\n",
              "      <td>-0.663336</td>\n",
              "      <td>0.810447</td>\n",
              "      <td>0.440394</td>\n",
              "      <td>1.174125</td>\n",
              "      <td>1.771748</td>\n",
              "      <td>-0.093708</td>\n",
              "      <td>0.060381</td>\n",
              "      <td>-0.616891</td>\n",
              "      <td>...</td>\n",
              "      <td>-1.481992</td>\n",
              "      <td>-1.139511</td>\n",
              "      <td>-0.098170</td>\n",
              "      <td>0.345173</td>\n",
              "      <td>-1.071015</td>\n",
              "      <td>-0.874161</td>\n",
              "      <td>0.202998</td>\n",
              "      <td>0.301950</td>\n",
              "      <td>0.536108</td>\n",
              "      <td>-0.432083</td>\n",
              "    </tr>\n",
              "    <tr>\n",
              "      <th>thine</th>\n",
              "      <td>0.154896</td>\n",
              "      <td>1.254078</td>\n",
              "      <td>1.333154</td>\n",
              "      <td>-0.492825</td>\n",
              "      <td>-1.983725</td>\n",
              "      <td>1.802391</td>\n",
              "      <td>0.103423</td>\n",
              "      <td>0.341781</td>\n",
              "      <td>-0.647391</td>\n",
              "      <td>-0.286480</td>\n",
              "      <td>...</td>\n",
              "      <td>-1.105528</td>\n",
              "      <td>-0.695816</td>\n",
              "      <td>0.233570</td>\n",
              "      <td>1.917194</td>\n",
              "      <td>1.842435</td>\n",
              "      <td>1.329732</td>\n",
              "      <td>-0.073964</td>\n",
              "      <td>0.345879</td>\n",
              "      <td>-0.653131</td>\n",
              "      <td>1.561690</td>\n",
              "    </tr>\n",
              "    <tr>\n",
              "      <th>and</th>\n",
              "      <td>0.220916</td>\n",
              "      <td>-0.575242</td>\n",
              "      <td>1.464411</td>\n",
              "      <td>1.773669</td>\n",
              "      <td>-2.022766</td>\n",
              "      <td>0.425511</td>\n",
              "      <td>0.574297</td>\n",
              "      <td>-1.794665</td>\n",
              "      <td>1.247958</td>\n",
              "      <td>1.281478</td>\n",
              "      <td>...</td>\n",
              "      <td>0.242655</td>\n",
              "      <td>-0.387181</td>\n",
              "      <td>-0.200793</td>\n",
              "      <td>-0.840401</td>\n",
              "      <td>-1.560349</td>\n",
              "      <td>-0.063719</td>\n",
              "      <td>1.201484</td>\n",
              "      <td>-2.287588</td>\n",
              "      <td>-1.017878</td>\n",
              "      <td>-0.888394</td>\n",
              "    </tr>\n",
              "    <tr>\n",
              "      <th>own</th>\n",
              "      <td>0.144874</td>\n",
              "      <td>0.203878</td>\n",
              "      <td>1.058261</td>\n",
              "      <td>0.138666</td>\n",
              "      <td>1.407098</td>\n",
              "      <td>0.485518</td>\n",
              "      <td>-0.705790</td>\n",
              "      <td>-0.827902</td>\n",
              "      <td>0.100226</td>\n",
              "      <td>0.194035</td>\n",
              "      <td>...</td>\n",
              "      <td>0.344442</td>\n",
              "      <td>-0.550232</td>\n",
              "      <td>-0.962102</td>\n",
              "      <td>0.275194</td>\n",
              "      <td>-0.680707</td>\n",
              "      <td>-0.544612</td>\n",
              "      <td>1.151372</td>\n",
              "      <td>-0.401992</td>\n",
              "      <td>0.977808</td>\n",
              "      <td>1.548079</td>\n",
              "    </tr>\n",
              "    <tr>\n",
              "      <th>forty</th>\n",
              "      <td>-0.374341</td>\n",
              "      <td>-2.411887</td>\n",
              "      <td>-1.280126</td>\n",
              "      <td>-0.057324</td>\n",
              "      <td>-1.232111</td>\n",
              "      <td>-1.064202</td>\n",
              "      <td>-0.388767</td>\n",
              "      <td>0.378081</td>\n",
              "      <td>-0.206106</td>\n",
              "      <td>0.695131</td>\n",
              "      <td>...</td>\n",
              "      <td>0.294404</td>\n",
              "      <td>-0.561940</td>\n",
              "      <td>0.727061</td>\n",
              "      <td>-0.546487</td>\n",
              "      <td>-0.804575</td>\n",
              "      <td>0.016648</td>\n",
              "      <td>-0.149151</td>\n",
              "      <td>0.521895</td>\n",
              "      <td>-0.210892</td>\n",
              "      <td>-1.257620</td>\n",
              "    </tr>\n",
              "  </tbody>\n",
              "</table>\n",
              "<p>5 rows × 100 columns</p>\n",
              "</div>\n",
              "    <div class=\"colab-df-buttons\">\n",
              "\n",
              "  <div class=\"colab-df-container\">\n",
              "    <button class=\"colab-df-convert\" onclick=\"convertToInteractive('df-eeb6147d-bd0a-4214-b97c-40c61aeb3606')\"\n",
              "            title=\"Convert this dataframe to an interactive table.\"\n",
              "            style=\"display:none;\">\n",
              "\n",
              "  <svg xmlns=\"http://www.w3.org/2000/svg\" height=\"24px\" viewBox=\"0 -960 960 960\">\n",
              "    <path d=\"M120-120v-720h720v720H120Zm60-500h600v-160H180v160Zm220 220h160v-160H400v160Zm0 220h160v-160H400v160ZM180-400h160v-160H180v160Zm440 0h160v-160H620v160ZM180-180h160v-160H180v160Zm440 0h160v-160H620v160Z\"/>\n",
              "  </svg>\n",
              "    </button>\n",
              "\n",
              "  <style>\n",
              "    .colab-df-container {\n",
              "      display:flex;\n",
              "      gap: 12px;\n",
              "    }\n",
              "\n",
              "    .colab-df-convert {\n",
              "      background-color: #E8F0FE;\n",
              "      border: none;\n",
              "      border-radius: 50%;\n",
              "      cursor: pointer;\n",
              "      display: none;\n",
              "      fill: #1967D2;\n",
              "      height: 32px;\n",
              "      padding: 0 0 0 0;\n",
              "      width: 32px;\n",
              "    }\n",
              "\n",
              "    .colab-df-convert:hover {\n",
              "      background-color: #E2EBFA;\n",
              "      box-shadow: 0px 1px 2px rgba(60, 64, 67, 0.3), 0px 1px 3px 1px rgba(60, 64, 67, 0.15);\n",
              "      fill: #174EA6;\n",
              "    }\n",
              "\n",
              "    .colab-df-buttons div {\n",
              "      margin-bottom: 4px;\n",
              "    }\n",
              "\n",
              "    [theme=dark] .colab-df-convert {\n",
              "      background-color: #3B4455;\n",
              "      fill: #D2E3FC;\n",
              "    }\n",
              "\n",
              "    [theme=dark] .colab-df-convert:hover {\n",
              "      background-color: #434B5C;\n",
              "      box-shadow: 0px 1px 3px 1px rgba(0, 0, 0, 0.15);\n",
              "      filter: drop-shadow(0px 1px 2px rgba(0, 0, 0, 0.3));\n",
              "      fill: #FFFFFF;\n",
              "    }\n",
              "  </style>\n",
              "\n",
              "    <script>\n",
              "      const buttonEl =\n",
              "        document.querySelector('#df-eeb6147d-bd0a-4214-b97c-40c61aeb3606 button.colab-df-convert');\n",
              "      buttonEl.style.display =\n",
              "        google.colab.kernel.accessAllowed ? 'block' : 'none';\n",
              "\n",
              "      async function convertToInteractive(key) {\n",
              "        const element = document.querySelector('#df-eeb6147d-bd0a-4214-b97c-40c61aeb3606');\n",
              "        const dataTable =\n",
              "          await google.colab.kernel.invokeFunction('convertToInteractive',\n",
              "                                                    [key], {});\n",
              "        if (!dataTable) return;\n",
              "\n",
              "        const docLinkHtml = 'Like what you see? Visit the ' +\n",
              "          '<a target=\"_blank\" href=https://colab.research.google.com/notebooks/data_table.ipynb>data table notebook</a>'\n",
              "          + ' to learn more about interactive tables.';\n",
              "        element.innerHTML = '';\n",
              "        dataTable['output_type'] = 'display_data';\n",
              "        await google.colab.output.renderOutput(dataTable, element);\n",
              "        const docLink = document.createElement('div');\n",
              "        docLink.innerHTML = docLinkHtml;\n",
              "        element.appendChild(docLink);\n",
              "      }\n",
              "    </script>\n",
              "  </div>\n",
              "\n",
              "\n",
              "    <div id=\"df-da05dc16-dac4-4d74-b63d-adb33206c46f\">\n",
              "      <button class=\"colab-df-quickchart\" onclick=\"quickchart('df-da05dc16-dac4-4d74-b63d-adb33206c46f')\"\n",
              "                title=\"Suggest charts\"\n",
              "                style=\"display:none;\">\n",
              "\n",
              "<svg xmlns=\"http://www.w3.org/2000/svg\" height=\"24px\"viewBox=\"0 0 24 24\"\n",
              "     width=\"24px\">\n",
              "    <g>\n",
              "        <path d=\"M19 3H5c-1.1 0-2 .9-2 2v14c0 1.1.9 2 2 2h14c1.1 0 2-.9 2-2V5c0-1.1-.9-2-2-2zM9 17H7v-7h2v7zm4 0h-2V7h2v10zm4 0h-2v-4h2v4z\"/>\n",
              "    </g>\n",
              "</svg>\n",
              "      </button>\n",
              "\n",
              "<style>\n",
              "  .colab-df-quickchart {\n",
              "      --bg-color: #E8F0FE;\n",
              "      --fill-color: #1967D2;\n",
              "      --hover-bg-color: #E2EBFA;\n",
              "      --hover-fill-color: #174EA6;\n",
              "      --disabled-fill-color: #AAA;\n",
              "      --disabled-bg-color: #DDD;\n",
              "  }\n",
              "\n",
              "  [theme=dark] .colab-df-quickchart {\n",
              "      --bg-color: #3B4455;\n",
              "      --fill-color: #D2E3FC;\n",
              "      --hover-bg-color: #434B5C;\n",
              "      --hover-fill-color: #FFFFFF;\n",
              "      --disabled-bg-color: #3B4455;\n",
              "      --disabled-fill-color: #666;\n",
              "  }\n",
              "\n",
              "  .colab-df-quickchart {\n",
              "    background-color: var(--bg-color);\n",
              "    border: none;\n",
              "    border-radius: 50%;\n",
              "    cursor: pointer;\n",
              "    display: none;\n",
              "    fill: var(--fill-color);\n",
              "    height: 32px;\n",
              "    padding: 0;\n",
              "    width: 32px;\n",
              "  }\n",
              "\n",
              "  .colab-df-quickchart:hover {\n",
              "    background-color: var(--hover-bg-color);\n",
              "    box-shadow: 0 1px 2px rgba(60, 64, 67, 0.3), 0 1px 3px 1px rgba(60, 64, 67, 0.15);\n",
              "    fill: var(--button-hover-fill-color);\n",
              "  }\n",
              "\n",
              "  .colab-df-quickchart-complete:disabled,\n",
              "  .colab-df-quickchart-complete:disabled:hover {\n",
              "    background-color: var(--disabled-bg-color);\n",
              "    fill: var(--disabled-fill-color);\n",
              "    box-shadow: none;\n",
              "  }\n",
              "\n",
              "  .colab-df-spinner {\n",
              "    border: 2px solid var(--fill-color);\n",
              "    border-color: transparent;\n",
              "    border-bottom-color: var(--fill-color);\n",
              "    animation:\n",
              "      spin 1s steps(1) infinite;\n",
              "  }\n",
              "\n",
              "  @keyframes spin {\n",
              "    0% {\n",
              "      border-color: transparent;\n",
              "      border-bottom-color: var(--fill-color);\n",
              "      border-left-color: var(--fill-color);\n",
              "    }\n",
              "    20% {\n",
              "      border-color: transparent;\n",
              "      border-left-color: var(--fill-color);\n",
              "      border-top-color: var(--fill-color);\n",
              "    }\n",
              "    30% {\n",
              "      border-color: transparent;\n",
              "      border-left-color: var(--fill-color);\n",
              "      border-top-color: var(--fill-color);\n",
              "      border-right-color: var(--fill-color);\n",
              "    }\n",
              "    40% {\n",
              "      border-color: transparent;\n",
              "      border-right-color: var(--fill-color);\n",
              "      border-top-color: var(--fill-color);\n",
              "    }\n",
              "    60% {\n",
              "      border-color: transparent;\n",
              "      border-right-color: var(--fill-color);\n",
              "    }\n",
              "    80% {\n",
              "      border-color: transparent;\n",
              "      border-right-color: var(--fill-color);\n",
              "      border-bottom-color: var(--fill-color);\n",
              "    }\n",
              "    90% {\n",
              "      border-color: transparent;\n",
              "      border-bottom-color: var(--fill-color);\n",
              "    }\n",
              "  }\n",
              "</style>\n",
              "\n",
              "      <script>\n",
              "        async function quickchart(key) {\n",
              "          const quickchartButtonEl =\n",
              "            document.querySelector('#' + key + ' button');\n",
              "          quickchartButtonEl.disabled = true;  // To prevent multiple clicks.\n",
              "          quickchartButtonEl.classList.add('colab-df-spinner');\n",
              "          try {\n",
              "            const charts = await google.colab.kernel.invokeFunction(\n",
              "                'suggestCharts', [key], {});\n",
              "          } catch (error) {\n",
              "            console.error('Error during call to suggestCharts:', error);\n",
              "          }\n",
              "          quickchartButtonEl.classList.remove('colab-df-spinner');\n",
              "          quickchartButtonEl.classList.add('colab-df-quickchart-complete');\n",
              "        }\n",
              "        (() => {\n",
              "          let quickchartButtonEl =\n",
              "            document.querySelector('#df-da05dc16-dac4-4d74-b63d-adb33206c46f button');\n",
              "          quickchartButtonEl.style.display =\n",
              "            google.colab.kernel.accessAllowed ? 'block' : 'none';\n",
              "        })();\n",
              "      </script>\n",
              "    </div>\n",
              "\n",
              "    </div>\n",
              "  </div>\n"
            ],
            "application/vnd.google.colaboratory.intrinsic+json": {
              "type": "dataframe"
            }
          },
          "metadata": {},
          "execution_count": 7
        }
      ],
      "source": [
        "import pandas as pd\n",
        "embeddings = model.embeddings(torch.Tensor([list(range(0,len(vocab)))]).long())\n",
        "embeddings = embeddings.view(-1,100)\n",
        "pd.DataFrame(embeddings.tolist(), index=list(ix_to_word.values())[0:]).head()"
      ]
    },
    {
      "cell_type": "markdown",
      "metadata": {
        "id": "_2qCRn1KSzO2"
      },
      "source": [
        "We can also plot the embeddings with TSNE to visualize the similarity"
      ]
    },
    {
      "cell_type": "code",
      "execution_count": 8,
      "metadata": {
        "id": "xs30GONMSzO2"
      },
      "outputs": [],
      "source": [
        "labels=[]\n",
        "for i in range(len(ix_to_word)):\n",
        "    labels.append(ix_to_word[i])"
      ]
    },
    {
      "cell_type": "code",
      "execution_count": 9,
      "metadata": {
        "scrolled": true,
        "id": "zhAqClnlSzO2",
        "outputId": "581b467f-d576-4900-8bca-04d47b01b012",
        "colab": {
          "base_uri": "https://localhost:8080/",
          "height": 830
        }
      },
      "outputs": [
        {
          "output_type": "display_data",
          "data": {
            "text/plain": [
              "<Figure size 1000x1000 with 1 Axes>"
            ],
            "image/png": "[encoded data removed]"
          },
          "metadata": {}
        }
      ],
      "source": [
        "from matplotlib import pylab\n",
        "from sklearn.manifold import TSNE\n",
        "\n",
        "tsne = TSNE(n_components=2)\n",
        "two_d_embeddings = tsne.fit_transform(embeddings.detach().numpy())\n",
        "\n",
        "def plot(embeddings, labels):\n",
        "      assert embeddings.shape[0] >= len(labels), 'More labels than embeddings'\n",
        "      pylab.figure(figsize=(10,10))  # in inches\n",
        "      for i, label in enumerate(labels):\n",
        "        x, y = embeddings[i,:]\n",
        "        pylab.scatter(x, y)\n",
        "        pylab.annotate(label, xy=(x, y), xytext=(5, 2), textcoords='offset points',\n",
        "                       ha='right', va='bottom')\n",
        "      pylab.show()\n",
        "\n",
        "\n",
        "plot(two_d_embeddings, labels)"
      ]
    },
    {
      "cell_type": "code",
      "execution_count": 10,
      "metadata": {
        "id": "XPtXvbGzSzO2",
        "outputId": "c81af925-0f59-438a-feca-42413f5879c1",
        "colab": {
          "base_uri": "https://localhost:8080/"
        }
      },
      "outputs": [
        {
          "output_type": "stream",
          "name": "stdout",
          "text": [
            "Raw text: When forty winters shall besiege thy brow, And dig deep trenches in thy beauty's field, Thy youth's proud livery so gazed on now, Will be a totter'd weed of small worth held: Then being asked, where all thy beauty lies, Where all the treasure of thy lusty days; To say, within thine own deep sunken eyes, Were an all-eating shame, and thriftless praise. How much more praise deserv'd thy beauty's use, If thou couldst answer 'This fair child of mine Shall sum my count, and make my old excuse,' Proving his beauty by succession thine! This were to be new made when thou art old, And see thy blood warm when thou feel'st it cold.\n",
            "\n",
            "Context: ['When', 'forty']\n",
            "\n",
            "Prediction: winters\n"
          ]
        }
      ],
      "source": [
        "context = ['When','forty']\n",
        "\n",
        "a = model(torch.tensor([word_to_ix[w] for w in context]))\n",
        "\n",
        "#Print result\n",
        "print(f'Raw text: {\" \".join(test_sentence)}\\n')\n",
        "print(f'Context: {context}\\n')\n",
        "print(f'Prediction: {ix_to_word[torch.argmax(a[0]).item()]}')"
      ]
    },
    {
      "cell_type": "markdown",
      "metadata": {
        "id": "TuCM5LSqjR4V"
      },
      "source": [
        "# Practical part  1: Computing Word Embeddings -- Continuous Bag-of-Words in a Toy example\n",
        "\n",
        "\n",
        "The Continuous Bag-of-Words model (CBOW) is frequently used in NLP deep\n",
        "learning. It is a model that tries to predict words given the context of\n",
        "a few words before and a few words after the target word. This is\n",
        "distinct from typical practices in language modeling, since CBOW is not sequential and does\n",
        "not have to be probabilistic. Typcially, CBOW is used to quickly train\n",
        "word embeddings, and these embeddings are used to initialize the\n",
        "embeddings of some more complicated model. Usually, this is referred to\n",
        "as *pretraining embeddings*. It almost always helps performance a couple\n",
        "of percent.\n",
        "\n",
        "The CBOW model is as follows. Given a target word $w_i$ and an\n",
        "$N$ context window on each side, $w_{i-1}, \\dots, w_{i-N}$\n",
        "and $w_{i+1}, \\dots, w_{i+N}$, referring to all context words\n",
        "collectively as $C$, CBOW tries to minimize\n",
        "\n",
        "\\begin{align}-\\log p(w_i | C) = -\\log \\text{Softmax}(A(\\sum_{w \\in C} q_w) + b)\\end{align}\n",
        "\n",
        "where $q_w$ is the embedding for word $w$.\n",
        "\n",
        "Implement this model in Pytorch by filling in the class below. Some\n",
        "tips:\n",
        "\n",
        "* Think about which parameters you need to define.\n",
        "* Make sure you know what shape each operation expects. Use .view() if you need to\n",
        "  reshape.\n",
        "\n"
      ]
    },
    {
      "cell_type": "markdown",
      "metadata": {
        "id": "RlbJtYGpSzO2"
      },
      "source": [
        "##  Data Preprocessing\n",
        "\n",
        "The CBOW model architecture tries to predict the current target word (the center word) based on the source context words (surrounding words). Considering a simple sentence, `the quick brown fox jumps over the lazy dog`, this can be pairs of (context_window, target_word) where if we consider a context size 2 (2 words to the left, 2 to the right),  we have examples like `([the, quick, fox, jumps], brown)` and so on. Thus the model tries to predict the target_word based on the context_window words.\n",
        "\n",
        "\n",
        "Therefore should build a list of tuples.  Each tuple is `([ word_i-2, word_i-1,word_i+1, word_i+2 ], target word)`, we also build dictionaries to map from words to indices, i.e. word_to_ix, and map from indices to words, i.e. ix_to_word,"
      ]
    },
    {
      "cell_type": "code",
      "execution_count": 3,
      "metadata": {
        "id": "wTlwaC5hSzO2",
        "outputId": "e09fe5ca-2e19-4962-ecd5-1781366d7969",
        "colab": {
          "base_uri": "https://localhost:8080/"
        }
      },
      "outputs": [
        {
          "output_type": "stream",
          "name": "stdout",
          "text": [
            "[(['We', 'are', 'to', 'study'], 'about'), (['are', 'about', 'study', 'the'], 'to'), (['about', 'to', 'the', 'idea'], 'study'), (['to', 'study', 'idea', 'of'], 'the'), (['study', 'the', 'of', 'a'], 'idea')]\n"
          ]
        }
      ],
      "source": [
        "import torch\n",
        "import torch.nn as nn\n",
        "\n",
        "\n",
        "CONTEXT_SIZE = 2  # 2 words to the left, 2 to the right\n",
        "EMBEDDING_DIM = 100\n",
        "\n",
        "raw_text = \"\"\"We are about to study the idea of a computational process.\n",
        "Computational processes are abstract beings that inhabit computers.\n",
        "As they evolve, processes manipulate other abstract things called data.\n",
        "The evolution of a process is directed by a pattern of rules\n",
        "called a program. People create programs to direct processes. In effect,\n",
        "we conjure the spirits of the computer with our spells.\"\"\".split()\n",
        "\n",
        "\n",
        "# By deriving a set from `raw_text`, we deduplicate the array\n",
        "vocab = set(raw_text)\n",
        "vocab_size = len(vocab)\n",
        "\n",
        "word_to_ix = {word:ix for ix, word in enumerate(vocab)}\n",
        "ix_to_word = {ix:word for ix, word in enumerate(vocab)}\n",
        "\n",
        "data = []\n",
        "for i in range(2, len(raw_text) - 2):\n",
        "    context = [raw_text[i - 2], raw_text[i - 1],\n",
        "               raw_text[i + 1], raw_text[i + 2]]\n",
        "    target = raw_text[i]\n",
        "    data.append((context, target))\n",
        "\n",
        "print(data[:5])"
      ]
    },
    {
      "cell_type": "markdown",
      "metadata": {
        "id": "zemTBtamSzO2"
      },
      "source": [
        "\n",
        "## Create CBoW Model\n",
        "Following is an image to illustrate the model architecture. We set the word embedding size to be 100 (or other by your preference)."
      ]
    },
    {
      "cell_type": "markdown",
      "metadata": {
        "id": "h9RF35xtSzO2"
      },
      "source": [
        "![avatar](https://miro.medium.com/max/328/1*bkrBASpteKfCaxZDEEeN6g.png)"
      ]
    },
    {
      "cell_type": "code",
      "execution_count": 4,
      "metadata": {
        "id": "c83HvD2hjR4W",
        "scrolled": true,
        "outputId": "27d2dac1-9a21-4645-9944-e9560acd9378",
        "colab": {
          "base_uri": "https://localhost:8080/"
        }
      },
      "outputs": [
        {
          "output_type": "stream",
          "name": "stdout",
          "text": [
            "Epoch: 0 \tLoss: 4.478802319230704\n",
            "Epoch: 1 \tLoss: 4.045055463396269\n",
            "Epoch: 2 \tLoss: 3.6425237778959603\n",
            "Epoch: 3 \tLoss: 3.2712308497264466\n",
            "Epoch: 4 \tLoss: 2.931016725712809\n",
            "Epoch: 5 \tLoss: 2.621192036003902\n",
            "Epoch: 6 \tLoss: 2.340631396606051\n",
            "Epoch: 7 \tLoss: 2.0879322125993927\n",
            "Epoch: 8 \tLoss: 1.8614896463936772\n",
            "Epoch: 9 \tLoss: 1.659542153621542\n",
            "Epoch: 10 \tLoss: 1.480235154772627\n",
            "Epoch: 11 \tLoss: 1.3216884552404797\n",
            "Epoch: 12 \tLoss: 1.1820432189209709\n",
            "Epoch: 13 \tLoss: 1.0594874543362651\n",
            "Epoch: 14 \tLoss: 0.9522702817259163\n",
            "Epoch: 15 \tLoss: 0.8587157597829556\n",
            "Epoch: 16 \tLoss: 0.7772364714022341\n",
            "Epoch: 17 \tLoss: 0.7063449256379029\n",
            "Epoch: 18 \tLoss: 0.644664768514962\n",
            "Epoch: 19 \tLoss: 0.5909412002255177\n",
            "Epoch: 20 \tLoss: 0.5440494939684868\n",
            "Epoch: 21 \tLoss: 0.5029988792435877\n",
            "Epoch: 22 \tLoss: 0.4669307580795781\n",
            "Epoch: 23 \tLoss: 0.4351110941377179\n",
            "Epoch: 24 \tLoss: 0.40691790986677695\n",
            "Epoch: 25 \tLoss: 0.3818273911702222\n",
            "Epoch: 26 \tLoss: 0.3594001449387649\n",
            "Epoch: 27 \tLoss: 0.3392673078282126\n",
            "Epoch: 28 \tLoss: 0.3211193536889964\n",
            "Epoch: 29 \tLoss: 0.30469569974932176\n",
            "Epoch: 30 \tLoss: 0.2897764177157961\n",
            "Epoch: 31 \tLoss: 0.27617523690749857\n",
            "Epoch: 32 \tLoss: 0.26373376722993525\n",
            "Epoch: 33 \tLoss: 0.2523166596375663\n",
            "Epoch: 34 \tLoss: 0.24180798373859505\n",
            "Epoch: 35 \tLoss: 0.23210792847234626\n",
            "Epoch: 36 \tLoss: 0.22313013698520331\n",
            "Epoch: 37 \tLoss: 0.21479976999348607\n",
            "Epoch: 38 \tLoss: 0.20705160665614852\n",
            "Epoch: 39 \tLoss: 0.19982857385586048\n",
            "Epoch: 40 \tLoss: 0.19308069181339493\n",
            "Epoch: 41 \tLoss: 0.18676384641178723\n",
            "Epoch: 42 \tLoss: 0.1808391093950847\n",
            "Epoch: 43 \tLoss: 0.17527201129444714\n",
            "Epoch: 44 \tLoss: 0.17003191262483597\n",
            "Epoch: 45 \tLoss: 0.1650914249235186\n",
            "Epoch: 46 \tLoss: 0.16042613751929383\n",
            "Epoch: 47 \tLoss: 0.156014171011489\n",
            "Epoch: 48 \tLoss: 0.1518357957488504\n",
            "Epoch: 49 \tLoss: 0.14787330465583964\n"
          ]
        }
      ],
      "source": [
        "class CBOW(torch.nn.Module):\n",
        "    def __init__(self, vocab_size, embedding_dim):\n",
        "        super(CBOW, self).__init__()\n",
        "\n",
        "        self.embeddings = nn.Embedding(vocab_size, embedding_dim)\n",
        "        self.linear1 = nn.Linear(embedding_dim, vocab_size)\n",
        "        self.linear2 = nn.Linear(128, vocab_size)\n",
        "\n",
        "    def forward(self, inputs):\n",
        "        embeds = sum(self.embeddings(inputs)).view((1, -1))\n",
        "        out = self.linear1(embeds)\n",
        "        return F.log_softmax(out, dim=1)\n",
        "\n",
        "# create your model and train.  here are some functions to help you make\n",
        "# the data ready for use by your module\n",
        "\n",
        "def make_context_vector(context, word_to_ix):\n",
        "    idxs = [word_to_ix[w] for w in context]\n",
        "    return torch.tensor(idxs, dtype=torch.long)\n",
        "\n",
        "model = CBOW(vocab_size, EMBEDDING_DIM)\n",
        "loss_function = nn.NLLLoss()\n",
        "optimizer = torch.optim.SGD(model.parameters(), lr=0.001)\n",
        "\n",
        "for epoch in range(50):\n",
        "    total_loss = 0\n",
        "    for context, target in data:\n",
        "\n",
        "\n",
        "        context_idxs = make_context_vector(context, word_to_ix)\n",
        "\n",
        "        model.zero_grad()\n",
        "\n",
        "        log_probs = model(context_idxs)\n",
        "\n",
        "        loss = loss_function(log_probs, torch.tensor([word_to_ix[target]], dtype=torch.long))\n",
        "\n",
        "        loss.backward()\n",
        "        optimizer.step()\n",
        "\n",
        "        total_loss += loss.item()\n",
        "    average_loss= total_loss/len(data)\n",
        "    print('Epoch:', epoch, '\\tLoss:', average_loss)"
      ]
    },
    {
      "cell_type": "markdown",
      "metadata": {
        "id": "HPaBXI5MSzO2"
      },
      "source": [
        "##  Check the results\n",
        "\n",
        "Then we check the results by making predictions of target work by context"
      ]
    },
    {
      "cell_type": "code",
      "execution_count": 5,
      "metadata": {
        "scrolled": true,
        "id": "dtR_kZ8wSzO2",
        "outputId": "c0db08e3-2829-45d7-e2d2-bde7632afb28",
        "colab": {
          "base_uri": "https://localhost:8080/"
        }
      },
      "outputs": [
        {
          "output_type": "stream",
          "name": "stdout",
          "text": [
            "Raw text: We are about to study the idea of a computational process. Computational processes are abstract beings that inhabit computers. As they evolve, processes manipulate other abstract things called data. The evolution of a process is directed by a pattern of rules called a program. People create programs to direct processes. In effect, we conjure the spirits of the computer with our spells.\n",
            "\n",
            "Context: ['People', 'create', 'to', 'direct']\n",
            "\n",
            "Prediction: programs\n"
          ]
        }
      ],
      "source": [
        "context = ['People','create','to', 'direct']\n",
        "context_vector = make_context_vector(context, word_to_ix)\n",
        "a = model(context_vector)\n",
        "\n",
        "#Print result\n",
        "print(f'Raw text: {\" \".join(raw_text)}\\n')\n",
        "print(f'Context: {context}\\n')\n",
        "print(f'Prediction: {ix_to_word[torch.argmax(a[0]).item()]}')"
      ]
    },
    {
      "cell_type": "markdown",
      "metadata": {
        "id": "FfbJpzGbSzO2"
      },
      "source": [
        "# Practical part 2: Computing Word Embeddings in  `Alice in Wonderland` using CBoW"
      ]
    },
    {
      "cell_type": "markdown",
      "metadata": {
        "id": "k1BBJcQfSzO2"
      },
      "source": [
        "Now let's try to build word embedding in a ‘Alice in Wonderland’ instead of a toy example. The word-label mapping dictionaries and corpus are available [here](https://drive.google.com/drive/folders/1mYM29PbWQ4rS0bgKndFJjZlkbcwMaEpO?usp=sharing). You can use the cell bellow to download the necessary data in your working directory."
      ]
    },
    {
      "cell_type": "code",
      "execution_count": 6,
      "metadata": {
        "id": "nfPQiq0VSzO2",
        "outputId": "baca86e8-a883-4fd9-c12c-fc0ced851a5d",
        "colab": {
          "base_uri": "https://localhost:8080/"
        }
      },
      "outputs": [
        {
          "output_type": "stream",
          "name": "stderr",
          "text": [
            "Retrieving folder contents\n"
          ]
        },
        {
          "output_type": "stream",
          "name": "stdout",
          "text": [
            "Processing file 1TGMG8jTqZBrJoJB_gGxd9vh8rtX7JuXw alice.json\n",
            "Processing file 1ECyNDt0sb8PD9A5LN8YYSUb6vmb1uj6W ix_to_word.json\n",
            "Processing file 1NYzP_0QSBFVNCZW6m7KAFA83LJUtU97Q word_to_ix.json\n"
          ]
        },
        {
          "output_type": "stream",
          "name": "stderr",
          "text": [
            "Retrieving folder contents completed\n",
            "Building directory structure\n",
            "Building directory structure completed\n",
            "Downloading...\n",
            "From: https://drive.google.com/uc?id=1TGMG8jTqZBrJoJB_gGxd9vh8rtX7JuXw\n",
            "To: /content/Word_embedding_data/alice.json\n",
            "100%|██████████| 78.0k/78.0k [00:00<00:00, 3.89MB/s]\n",
            "Downloading...\n",
            "From: https://drive.google.com/uc?id=1ECyNDt0sb8PD9A5LN8YYSUb6vmb1uj6W\n",
            "To: /content/Word_embedding_data/ix_to_word.json\n",
            "100%|██████████| 42.3k/42.3k [00:00<00:00, 11.4MB/s]\n",
            "Downloading...\n",
            "From: https://drive.google.com/uc?id=1NYzP_0QSBFVNCZW6m7KAFA83LJUtU97Q\n",
            "To: /content/Word_embedding_data/word_to_ix.json\n",
            "100%|██████████| 37.6k/37.6k [00:00<00:00, 12.8MB/s]\n",
            "Download completed\n"
          ]
        },
        {
          "output_type": "execute_result",
          "data": {
            "text/plain": [
              "['/content/Word_embedding_data/alice.json',\n",
              " '/content/Word_embedding_data/ix_to_word.json',\n",
              " '/content/Word_embedding_data/word_to_ix.json']"
            ]
          },
          "metadata": {},
          "execution_count": 6
        }
      ],
      "source": [
        "import gdown\n",
        "gdown.download_folder(\"https://drive.google.com/drive/folders/1mYM29PbWQ4rS0bgKndFJjZlkbcwMaEpO\")"
      ]
    },
    {
      "cell_type": "markdown",
      "metadata": {
        "id": "I5WfHoazSzO3"
      },
      "source": [
        "##  Data Preprocessing"
      ]
    },
    {
      "cell_type": "code",
      "execution_count": 7,
      "metadata": {
        "id": "71_LKa9nSzO3"
      },
      "outputs": [],
      "source": [
        "# modify the path according to your own file location\n",
        "import os\n",
        "data_path=os.path.join(\"/content/Word_embedding_data/\")\n",
        "# if you are not using Colab, change data_path above to where you stored the data locally"
      ]
    },
    {
      "cell_type": "markdown",
      "metadata": {
        "id": "0lEZBCKlSzO3"
      },
      "source": [
        "Now we load the data:"
      ]
    },
    {
      "cell_type": "code",
      "execution_count": 8,
      "metadata": {
        "id": "XyRdRoxBSzO3"
      },
      "outputs": [],
      "source": [
        "import json\n",
        "with open(os.path.join(data_path,\"alice.json\"),'r') as f:\n",
        "    alice = json.load(f)\n",
        "with open(os.path.join(data_path,\"ix_to_word.json\"),'r') as f:\n",
        "    ix_to_word = json.load(f)\n",
        "with open(os.path.join(data_path,\"word_to_ix.json\"),'r') as f:\n",
        "    word_to_ix = json.load(f)"
      ]
    },
    {
      "cell_type": "markdown",
      "metadata": {
        "id": "OxafYPC2SzO3"
      },
      "source": [
        "Then we create the context and target pairs by borrowing some keras utilities. We set the window_size 2 (2 words to the left, 2 to the right)."
      ]
    },
    {
      "cell_type": "code",
      "execution_count": 9,
      "metadata": {
        "id": "DrkIzAGCSzO3",
        "outputId": "45cc5a2a-e270-451e-b573-dc7175772c71",
        "colab": {
          "base_uri": "https://localhost:8080/"
        }
      },
      "outputs": [
        {
          "output_type": "stream",
          "name": "stderr",
          "text": [
            "<ipython-input-9-9171d78e1da2>:24: UserWarning: Creating a tensor from a list of numpy.ndarrays is extremely slow. Please consider converting the list to a single numpy.ndarray with numpy.array() before converting to a tensor. (Triggered internally at /pytorch/torch/csrc/utils/tensor_new.cpp:254.)\n",
            "  X=torch.tensor(X, dtype=torch.long)\n"
          ]
        }
      ],
      "source": [
        "window_size=2\n",
        "vocab_size=len(word_to_ix)\n",
        "\n",
        "from tensorflow.keras.preprocessing import text\n",
        "from tensorflow.keras.preprocessing import sequence\n",
        "from tensorflow.keras.utils import pad_sequences\n",
        "\n",
        "corpus = [[word_to_ix[w] for w in text.text_to_word_sequence(doc)] for doc in alice]\n",
        "\n",
        "def generate_context_word_pairs(corpus, window_size, vocab_size):\n",
        "    X = []\n",
        "    Y = []\n",
        "    context_length = window_size*2\n",
        "    for words in corpus:\n",
        "        sentence_length = len(words)\n",
        "        for index, word in enumerate(words):\n",
        "            start = index - window_size\n",
        "            end = index + window_size + 1\n",
        "            context = [words[i] for i in range(start, end)if 0 <= i < sentence_length and i != index]\n",
        "            x = pad_sequences([context], maxlen=context_length)[0]\n",
        "            X.append(x)\n",
        "            Y.append([word])\n",
        "\n",
        "    X=torch.tensor(X, dtype=torch.long)\n",
        "    Y=torch.tensor(Y, dtype=torch.long)\n",
        "    return X,Y\n",
        "\n",
        "X,Y = generate_context_word_pairs(corpus, window_size=window_size, vocab_size=vocab_size)"
      ]
    },
    {
      "cell_type": "markdown",
      "metadata": {
        "id": "yUJhdyrvSzO3"
      },
      "source": [
        "\n",
        "##  Create CBoW Model\n",
        "Now we create CBoW model, we could set the word embedding size to be 100 (or  some other number if you prefer)."
      ]
    },
    {
      "cell_type": "code",
      "execution_count": 10,
      "metadata": {
        "id": "9uqY4-ZkSzO3"
      },
      "outputs": [],
      "source": [
        "# class CBOW(torch.nn.Module):\n",
        "#     def __init__(self):\n",
        "#         # === ADD CODE HERE ===\n",
        "\n",
        "#     def forward(self, inputs):\n",
        "#          # === ADD CODE HERE ===\n",
        "\n",
        "\n",
        "EMBEDDING_DIM=100\n",
        "model = CBOW(vocab_size,EMBEDDING_DIM)"
      ]
    },
    {
      "cell_type": "markdown",
      "metadata": {
        "id": "Mj7VITmBSzO3"
      },
      "source": [
        "Remember to move your model to GPU, since now we are training with a larger corpus."
      ]
    },
    {
      "cell_type": "code",
      "execution_count": 11,
      "metadata": {
        "id": "DeVDocCVSzO3",
        "outputId": "7ac86c66-f575-42b0-a931-8ce3c0cef837",
        "colab": {
          "base_uri": "https://localhost:8080/"
        }
      },
      "outputs": [
        {
          "output_type": "execute_result",
          "data": {
            "text/plain": [
              "CBOW(\n",
              "  (embeddings): Embedding(2379, 100)\n",
              "  (linear1): Linear(in_features=100, out_features=2379, bias=True)\n",
              "  (linear2): Linear(in_features=128, out_features=2379, bias=True)\n",
              ")"
            ]
          },
          "metadata": {},
          "execution_count": 11
        }
      ],
      "source": [
        "# Move model to GPU\n",
        "# === ADD CODE HERE ===\n",
        "device = torch.device(\"mps\") if torch.mps.is_available() else torch.device(\"cuda\") if torch.cuda.is_available() else torch.device(\"cpu\")\n",
        "\n",
        "model.to(device)"
      ]
    },
    {
      "cell_type": "markdown",
      "metadata": {
        "id": "JWi2uNQySzO4"
      },
      "source": [
        "Then we train the model and print the loss. The loss should decrease with every epoch over the training data. You can play with the epochs numbers here."
      ]
    },
    {
      "cell_type": "code",
      "execution_count": 12,
      "metadata": {
        "id": "jqkz6yLWSzO4",
        "outputId": "fafcc2d2-e460-4819-ca1b-0264447696dd",
        "colab": {
          "base_uri": "https://localhost:8080/"
        }
      },
      "outputs": [
        {
          "output_type": "stream",
          "name": "stdout",
          "text": [
            "Epoch: 0 \tLoss: 7.929290410364347\n",
            "Epoch: 1 \tLoss: 7.198722447379074\n",
            "Epoch: 2 \tLoss: 6.750380292766999\n",
            "Epoch: 3 \tLoss: 6.388711188126352\n",
            "Epoch: 4 \tLoss: 6.076659974751387\n",
            "Epoch: 5 \tLoss: 5.800220034002467\n",
            "Epoch: 6 \tLoss: 5.552146299321232\n",
            "Epoch: 7 \tLoss: 5.327681943260153\n",
            "Epoch: 8 \tLoss: 5.123216894522651\n",
            "Epoch: 9 \tLoss: 4.9358738636002695\n"
          ]
        }
      ],
      "source": [
        "#TRAINING\n",
        "loss_function = nn.NLLLoss()\n",
        "optimizer = torch.optim.SGD(model.parameters(), lr=0.001)\n",
        "\n",
        "for epoch in range(0, 10):\n",
        "    total_loss = 0.\n",
        "    i = 0\n",
        "\n",
        "    for context, target in zip(X,Y):\n",
        "\n",
        "        # Step 1. Recall that torch *accumulates* gradients. Before passing in a\n",
        "        # new instance, you need to zero out the gradients from the old\n",
        "        # instance\n",
        "        model.zero_grad()\n",
        "\n",
        "        # Step 2. Run the forward pass, getting log probabilities.\n",
        "        log_probs = model(context.to(device))\n",
        "\n",
        "        # Step 3. Compute your loss function.\n",
        "        loss = loss_function(log_probs,target.to(device))\n",
        "\n",
        "        # Step 5. Do the backward pass and update the gradient\n",
        "        loss.backward()\n",
        "        optimizer.step()\n",
        "\n",
        "\n",
        "        # Get the Python number from a 1-element Tensor by calling tensor.item()\n",
        "        total_loss += loss.item()\n",
        "    average_loss= total_loss/len(X)\n",
        "    print('Epoch:', epoch, '\\tLoss:', average_loss)"
      ]
    },
    {
      "cell_type": "markdown",
      "metadata": {
        "id": "VsXs6sKzSzO4"
      },
      "source": [
        "# Practical. 3: Analogy Task"
      ]
    },
    {
      "cell_type": "markdown",
      "metadata": {
        "id": "izqIhU1dSzO4"
      },
      "source": [
        "\n",
        "\n",
        "\n",
        "**Reading material**\n",
        "* [1] Mikolov, Tomas, et al. \"[Efficient Estimation of Word Representations in Vector Space](https://arxiv.org/abs/1301.3781)\" Advances in neural information processing systems. 2013.\n"
      ]
    },
    {
      "cell_type": "markdown",
      "metadata": {
        "id": "v9OhJi3CSzO4"
      },
      "source": [
        "Implement your own function to perform the analogy task (see [1] for concrete examples). Use the same distance metric as in [1]. Your function should be able to answer whether an analogy like: \"a king is to a queen as a man is to a woman\" ($e_{king} - e_{queen} + e_{woman} \\approx e_{man}$) is true.\n",
        "\n",
        "In a perfect scenario, we would like that this analogy ($e_{king} - e_{queen} + e_{woman}$) results in the embedding of the word \"man\". However, it does not always result in exactly the same word embedding. The result of the formula is called the expected or the predicted word embedding. In this context, \"man\" is called the true or the actual word $t$. We want to find the word $p$ in the vocabulary, where the embedding of $p$ (referred to as $e_p$) is the closest to the predicted embedding (i.e. result of the formula). Then, we can check if $p$ is the same word as the true word $t$.  \n",
        "\n",
        "You have to answer an analogy function using each embedding for  CBOW model. Show the true word (with distance similarity value between predicted embedding and true word embedding, i.e. `sim1`) , the predicted word (with distance similarity value between predicted embedding and the embedding of the word in the vocabulary that is closest to this predicted embedding, i.e. `sim2`).\n",
        "\n",
        "Since `Alice in wonder land` is a relatively small dataset to training the model for the analogy task,  we may find it is difficult to get the correct answer by searching the nearest word embedding. Therefore, we extend the predicted word to the nearest `nr` number of words and check if the true word is within them. Do not expect the `nr` to be very small, it could be tens or hundreds."
      ]
    },
    {
      "cell_type": "markdown",
      "metadata": {
        "id": "0HfYBIx5SzO4"
      },
      "source": [
        "<b>HINT</b>: to visualize the results of the analogy tasks , you can print them in a table. An example is given below.\n",
        "\n",
        "\n",
        "| Analogy task | True word (sim1)  | Predicted nearaest word (sim2) | Correct? |True word within the top `nr` nearest word?|\n",
        "|:------:|:------:|:------:|:------:|:------:|\n",
        "|  queen is to king as woman is to ?\t | man (sim1) | predicted_word(sim2) | True / False |   True / False|"
      ]
    },
    {
      "cell_type": "code",
      "execution_count": 13,
      "metadata": {
        "id": "lZ_mE5-7SzO4"
      },
      "outputs": [],
      "source": [
        "analogy=('queen', 'king', 'woman', 'man')"
      ]
    },
    {
      "cell_type": "markdown",
      "metadata": {
        "id": "o7a1HCz1SzO4"
      },
      "source": [
        "First let us extract the embeddings of all vocabularies for the following task"
      ]
    },
    {
      "cell_type": "code",
      "execution_count": null,
      "metadata": {
        "id": "J_FJcmY2SzO4"
      },
      "outputs": [],
      "source": [
        "dev = torch.device(\n",
        "    \"cuda\") if torch.cuda.is_available() else torch.device(\"cpu\")"
      ]
    },
    {
      "cell_type": "code",
      "execution_count": 14,
      "metadata": {
        "id": "tUkmqXYlSzO4"
      },
      "outputs": [],
      "source": [
        "embeddings = model.embeddings(torch.Tensor([list(range(0,vocab_size))]).long().to(device))\n",
        "embeddings = embeddings.view(-1,100)\n",
        "embeddings = embeddings.cpu().detach().numpy()"
      ]
    },
    {
      "cell_type": "markdown",
      "metadata": {
        "id": "GnErB7NOSzO4"
      },
      "source": [
        "[link text](https://)Then we define a 'get_nearest_words' function to retrive the nearest `nr` words to a certain word embedding"
      ]
    },
    {
      "cell_type": "code",
      "execution_count": 37,
      "metadata": {
        "id": "cMW79II7SzO4"
      },
      "outputs": [],
      "source": [
        "from numpy.linalg import norm\n",
        "\n",
        "def cosine_similarity(a, b):\n",
        "    return np.dot(a, b) / (norm(a) * norm(b) + 1e-10)\n",
        "\n",
        "def get_nearest_words():\n",
        "    similarities = [cosine_similarity(embedding, emb) for emb in embeddings]\n",
        "    top_indices = np.argsort(similarities)[::-1][:nr]\n",
        "    return [(vocab[i], similarities[i]) for i in top_indices]"
      ]
    },
    {
      "cell_type": "markdown",
      "metadata": {
        "id": "dBastC9vSzO4"
      },
      "source": [
        "Now let's search for the nearest `one` and `nr` words of the predicted word embedding, and print results of the analogy tasks"
      ]
    },
    {
      "cell_type": "code",
      "execution_count": 38,
      "metadata": {
        "id": "edpXRwHFSzO4"
      },
      "outputs": [],
      "source": [
        "def print_analogy(analogy, embeddings, word2idx, idx2word, nr=10):\n",
        "    word1, word2, word3, true_word = analogy\n",
        "\n",
        "    try:\n",
        "        e1 = embeddings[word2idx[word1]]\n",
        "        e2 = embeddings[word2idx[word2]]\n",
        "        e3 = embeddings[word2idx[word3]]\n",
        "        e_true = embeddings[word2idx[true_word]]\n",
        "    except KeyError as e:\n",
        "        print(f\"Word not in vocabulary: {e}\")\n",
        "        return\n",
        "\n",
        "    # Compute predicted embedding\n",
        "    predicted_embedding = e2 - e1 + e3\n",
        "\n",
        "    # Compute similarity with true word\n",
        "    sim1 = cosine_similarity(predicted_embedding, e_true)\n",
        "\n",
        "    # Find nearest words to predicted embedding\n",
        "    nearest = get_nearest_words(predicted_embedding, embeddings, idx2word, nr=nr)\n",
        "\n",
        "    # Closest word (highest similarity)\n",
        "    predicted_word, sim2 = nearest[0]\n",
        "\n",
        "    print(\"=\"*50)\n",
        "    print(f\"Analogy: '{word1}' is to '{word2}' as '{word3}' is to ?\")\n",
        "    print(f\"True word: {true_word} (Similarity: {sim1:.4f})\")\n",
        "    print(f\"Predicted word: {predicted_word} (Similarity: {sim2:.4f})\")\n",
        "\n",
        "    if true_word in dict(nearest):\n",
        "        print(f\"✅ True word found in top-{nr} nearest words.\")\n",
        "    else:\n",
        "        print(f\"❌ True word NOT found in top-{nr} nearest words.\")\n",
        "\n",
        "    print(\"\\nTop predictions:\")\n",
        "    for word, sim in nearest:\n",
        "        print(f\"{word:15s} : {sim:.4f}\")\n",
        "    print(\"=\"*50)\n"
      ]
    },
    {
      "cell_type": "code",
      "execution_count": 40,
      "metadata": {
        "id": "UDWCtUMTSzO4",
        "outputId": "c9ad36e2-0d31-48c0-bdec-fb1d5cf98f14",
        "colab": {
          "base_uri": "https://localhost:8080/"
        }
      },
      "outputs": [
        {
          "output_type": "stream",
          "name": "stdout",
          "text": [
            "Word not in vocabulary: 'queen'\n"
          ]
        }
      ],
      "source": [
        "print_analogy(analogy, embeddings, ix_to_word, word_to_ix, nr=20)"
      ]
    }
  ],
  "metadata": {
    "colab": {
      "name": "P1.2_Word_embedding.ipynb",
      "provenance": [],
      "gpuType": "T4",
      "include_colab_link": true
    },
    "kernelspec": {
      "display_name": "Python 3",
      "name": "python3"
    },
    "language_info": {
      "codemirror_mode": {
        "name": "ipython",
        "version": 3
      },
      "file_extension": ".py",
      "mimetype": "text/x-python",
      "name": "python",
      "nbconvert_exporter": "python",
      "pygments_lexer": "ipython3",
      "version": "3.12.3"
    },
    "accelerator": "GPU"
  },
  "nbformat": 4,
  "nbformat_minor": 0
}